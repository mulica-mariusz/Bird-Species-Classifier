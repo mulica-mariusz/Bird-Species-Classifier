{
 "cells": [
  {
   "cell_type": "code",
   "execution_count": 64,
   "id": "3b570984",
   "metadata": {},
   "outputs": [],
   "source": [
    "import time\n",
    "import os\n",
    "import configparser\n",
    "from PIL import Image\n",
    "from selenium import webdriver\n",
    "from selenium.webdriver.support.ui import WebDriverWait\n",
    "from selenium.webdriver.common.by import By\n",
    "from selenium.webdriver.chrome.service import Service\n",
    "from webdriver_manager.chrome import ChromeDriverManager\n",
    "from selenium.webdriver.common.keys import Keys"
   ]
  },
  {
   "cell_type": "code",
   "execution_count": null,
   "id": "2bca0812",
   "metadata": {},
   "outputs": [],
   "source": [
    "parser = configparser.ConfigParser()\n",
    "parser.read(\"connection.cfg\")\n",
    "HEADERS = json.loads(parser.get(\"search\", \"head\"))\n",
    "URL = parser.get(\"search\", \"selenium_url\")"
   ]
  },
  {
   "cell_type": "code",
   "execution_count": 9,
   "id": "42f2e7cf",
   "metadata": {},
   "outputs": [],
   "source": [
    "def scroll_to_bottom():\n",
    " \n",
    "    last_height = driver.execute_script('\\\n",
    "    return document.body.scrollHeight')\n",
    " \n",
    "    while True:\n",
    "        driver.execute_script('\\\n",
    "        window.scrollTo(0,document.body.scrollHeight)')\n",
    "        \n",
    "        time.sleep(3)\n",
    "        new_height = driver.execute_script('\\\n",
    "        return document.body.scrollHeight')\n",
    "        if new_height == last_height:\n",
    "            break\n",
    " \n",
    "        last_height = new_height"
   ]
  },
  {
   "cell_type": "code",
   "execution_count": 74,
   "id": "364f7b14",
   "metadata": {},
   "outputs": [],
   "source": [
    "def save_images(working_directory, folder_name, file_name):\n",
    "    for i in range(1, 100):\n",
    "\n",
    "        try:\n",
    "\n",
    "            img = driver.find_element('xpath',\n",
    "                ' //*[@id=\"zci-images\"]/div[1]/div[2]/div[2]/div[' + str(i) +']/div[1]/span/img')\n",
    "            img.screenshot(f'{working_directory}\\\\{folder_name}\\\\{file_name}' +'_pic_' + str(i) + '.png')\n",
    "            time.sleep(0.2)\n",
    "        except:\n",
    "            continue\n",
    "\n",
    "        try:\n",
    "            img = driver.find_element('xpath',\n",
    "                ' //*[@id=\"zci-images\"]/div/div[2]/div[2]/div[' + str(i) +']/div[1]/span/img')\n",
    "            img.screenshot(f'{working_directory}\\\\{folder_name}\\\\{file_name}' +'_pic_' + str(i + 99) + '.png')\n",
    "            time.sleep(0.2)\n",
    "        except:\n",
    "            continue"
   ]
  },
  {
   "cell_type": "code",
   "execution_count": 114,
   "id": "acf0fc27",
   "metadata": {},
   "outputs": [],
   "source": [
    "option = webdriver.ChromeOptions()\n",
    "option.add_argument(\"start-maximized\")\n",
    "\n",
    "driver = webdriver.Chrome(service=Service(ChromeDriverManager().install()),options=option)\n",
    "driver.get('https://duckduckgo.com/?q=images&t=h_&iar=images&iax=images&ia=images')"
   ]
  },
  {
   "cell_type": "code",
   "execution_count": 115,
   "id": "f3a6d354",
   "metadata": {},
   "outputs": [],
   "source": [
    "def search_img(query):\n",
    "    search = driver.find_element(\"name\", \"q\")\n",
    "    search.clear()\n",
    "    search.send_keys(query)\n",
    "    search.send_keys(Keys.ENTER)\n",
    "    time.sleep(1)"
   ]
  },
  {
   "cell_type": "code",
   "execution_count": 13,
   "id": "5b4ce151",
   "metadata": {},
   "outputs": [],
   "source": [
    "images = driver.find_element(\"xpath\", '//*[@id=\"duckbar_static\"]/li[2]/a')\n",
    "images.send_keys(Keys.ENTER)"
   ]
  },
  {
   "cell_type": "code",
   "execution_count": 63,
   "id": "af6a4cc0",
   "metadata": {},
   "outputs": [],
   "source": [
    "bird_list = ['sparrow', 'pigeon', 'great tit', 'jackdaw', 'kestrel', 'magpie', 'robin', \n",
    "             'blackbird', 'woodpecker', 'starling', 'long-tailed tit', 'european greenfinch', 'barn swallow']\n",
    "bird_list_pl = ['wróbel', 'gołąb', 'sikorka', 'kawka', 'pustułka', 'sroka', \n",
    "                'rudzik', 'kos', 'dzięcioł', 'szpak', 'raniuszek', 'dzwoniec', 'jaskółka']"
   ]
  },
  {
   "cell_type": "code",
   "execution_count": 110,
   "id": "710b5bc9",
   "metadata": {},
   "outputs": [],
   "source": [
    "working_dir = os.getcwd() + '\\\\birds_'"
   ]
  },
  {
   "cell_type": "code",
   "execution_count": 111,
   "id": "411f9380",
   "metadata": {},
   "outputs": [],
   "source": [
    "for bird in bird_list:\n",
    "    \n",
    "    path = os.path.join(working_dir, bird)\n",
    "    os.mkdir(path)"
   ]
  },
  {
   "cell_type": "code",
   "execution_count": 116,
   "id": "c5090daf",
   "metadata": {},
   "outputs": [],
   "source": [
    "for bird in bird_list:\n",
    "    \n",
    "    search_img(bird + ' bird')\n",
    "    scroll_to_bottom()\n",
    "    time.sleep(3)\n",
    "    save_images(working_dir, bird, bird)"
   ]
  },
  {
   "cell_type": "code",
   "execution_count": 82,
   "id": "eedabf4d",
   "metadata": {},
   "outputs": [],
   "source": [
    "image_check = os.path.join(working_dir, bird_list[0])"
   ]
  },
  {
   "cell_type": "code",
   "execution_count": 109,
   "id": "4e7d9a92",
   "metadata": {},
   "outputs": [],
   "source": [
    "for filename in os.listdir(image_check):\n",
    "    try:\n",
    "        new_path = os.path.join(image_check,filename)\n",
    "        check_img = Image.open(new_path)\n",
    "        width, height = check_img.size\n",
    "        new_image = check_img.crop((0, 0, width, 0.9 * height))\n",
    "        new_image.save(new_path)\n",
    "    except:\n",
    "        print('something went wrong..', img_path)\n",
    "        "
   ]
  }
 ],
 "metadata": {
  "kernelspec": {
   "display_name": "Python 3 (ipykernel)",
   "language": "python",
   "name": "python3"
  },
  "language_info": {
   "codemirror_mode": {
    "name": "ipython",
    "version": 3
   },
   "file_extension": ".py",
   "mimetype": "text/x-python",
   "name": "python",
   "nbconvert_exporter": "python",
   "pygments_lexer": "ipython3",
   "version": "3.9.0"
  }
 },
 "nbformat": 4,
 "nbformat_minor": 5
}
